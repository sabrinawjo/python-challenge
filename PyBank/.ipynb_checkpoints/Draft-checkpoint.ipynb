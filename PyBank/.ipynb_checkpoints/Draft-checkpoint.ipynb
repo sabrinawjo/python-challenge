{
 "cells": [
  {
   "cell_type": "markdown",
   "metadata": {},
   "source": [
    "import os\n",
    "import csv\n",
    "data_path = os.path.join(\"Resources\",\"budget_data.csv\")\n",
    "with open(data_path) as csvfile:\n",
    "    csvreader = csv.reader(csvfile, delimiter = \",\")\n",
    "    csv_header = next(csvreader)\n",
    "    total = 0\n",
    "    for row in csvreader:\n",
    "        total += int(row[1])\n",
    "    print(total)\n",
    "    "
   ]
  },
  {
   "cell_type": "code",
   "execution_count": 29,
   "metadata": {},
   "outputs": [],
   "source": [
    "import pandas as pd\n",
    "data_file = \"Resources/budget_data.csv\"\n",
    "data_file_df = pd.read_csv(data_file)\n",
    "#data_file_df.head()\n",
    "#data_file_df.describe()"
   ]
  },
  {
   "cell_type": "code",
   "execution_count": 30,
   "metadata": {},
   "outputs": [
    {
     "data": {
      "text/plain": [
       "86"
      ]
     },
     "execution_count": 30,
     "metadata": {},
     "output_type": "execute_result"
    }
   ],
   "source": [
    "totalmonth = data_file_df[\"Date\"].count()\n",
    "totalmonth"
   ]
  },
  {
   "cell_type": "code",
   "execution_count": 31,
   "metadata": {},
   "outputs": [
    {
     "data": {
      "text/plain": [
       "38382578"
      ]
     },
     "execution_count": 31,
     "metadata": {},
     "output_type": "execute_result"
    }
   ],
   "source": [
    "totalmoney = data_file_df[\"Profit/Losses\"].sum()\n",
    "totalmoney"
   ]
  },
  {
   "cell_type": "code",
   "execution_count": 32,
   "metadata": {},
   "outputs": [
    {
     "data": {
      "text/plain": [
       "-2315.1176470588234"
      ]
     },
     "execution_count": 32,
     "metadata": {},
     "output_type": "execute_result"
    }
   ],
   "source": [
    "change_in_pl = data_file_df[\"Profit/Losses\"].diff()\n",
    "data_file_df[\"ChangeinPL\"] = change_in_pl\n",
    "#data_file_df.head()\n",
    "ave_change = data_file_df[\"ChangeinPL\"].mean()\n",
    "ave_change"
   ]
  },
  {
   "cell_type": "code",
   "execution_count": 38,
   "metadata": {},
   "outputs": [
    {
     "data": {
      "text/plain": [
       "'Feb-2012'"
      ]
     },
     "execution_count": 38,
     "metadata": {},
     "output_type": "execute_result"
    }
   ],
   "source": [
    "maxi = data_file_df[\"ChangeinPL\"].max()\n",
    "maxidate = data_file_df.loc[data_file_df[\"ChangeinPL\"] == maxi, \"Date\"].iloc[0]"
   ]
  },
  {
   "cell_type": "code",
   "execution_count": 40,
   "metadata": {},
   "outputs": [
    {
     "data": {
      "text/plain": [
       "'Sep-2013'"
      ]
     },
     "execution_count": 40,
     "metadata": {},
     "output_type": "execute_result"
    }
   ],
   "source": [
    "mini = data_file_df[\"ChangeinPL\"].min()\n",
    "minidate = data_file_df.loc[data_file_df[\"ChangeinPL\"] == mini, \"Date\"].iloc[0]"
   ]
  },
  {
   "cell_type": "code",
   "execution_count": 47,
   "metadata": {},
   "outputs": [
    {
     "name": "stdout",
     "output_type": "stream",
     "text": [
      "Financial Analysis\n",
      "-------------------------------\n",
      "Total Months:  86\n",
      "Total: $38382578\n",
      "Average Change: $-2315.1176470588234\n",
      "Greatest Increase in Profits: Feb-2012 ($1926159.0)\n",
      "Greatest Decrease in Profits: Sep-2013 ($-2196167.0)\n"
     ]
    }
   ],
   "source": [
    "print('Financial Analysis')\n",
    "print('-------------------------------')\n",
    "print(f'Total Months:  {totalmonth}' )\n",
    "print(f'Total: ${totalmoney}')\n",
    "print(f'Average Change: ${ave_change}')\n",
    "print(f'Greatest Increase in Profits: {maxidate} (${maxi})')\n",
    "print(f'Greatest Decrease in Profits: {minidate} (${mini})')"
   ]
  },
  {
   "cell_type": "code",
   "execution_count": null,
   "metadata": {},
   "outputs": [],
   "source": []
  }
 ],
 "metadata": {
  "kernelspec": {
   "display_name": "Python 3",
   "language": "python",
   "name": "python3"
  },
  "language_info": {
   "codemirror_mode": {
    "name": "ipython",
    "version": 3
   },
   "file_extension": ".py",
   "mimetype": "text/x-python",
   "name": "python",
   "nbconvert_exporter": "python",
   "pygments_lexer": "ipython3",
   "version": "3.8.5"
  }
 },
 "nbformat": 4,
 "nbformat_minor": 4
}
