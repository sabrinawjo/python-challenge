{
 "cells": [
  {
   "cell_type": "code",
   "execution_count": 86,
   "metadata": {},
   "outputs": [],
   "source": [
    "import pandas as pd\n",
    "data_file = \"Resources/election_data.csv\"\n",
    "data_file_df = pd.read_csv(data_file)\n",
    "#data_file_df.head()"
   ]
  },
  {
   "cell_type": "code",
   "execution_count": 87,
   "metadata": {},
   "outputs": [],
   "source": [
    "totalvote = data_file_df[\"Voter ID\"].count()"
   ]
  },
  {
   "cell_type": "code",
   "execution_count": 88,
   "metadata": {},
   "outputs": [],
   "source": [
    "#print(data_file_df.Candidate == 'Khan')"
   ]
  },
  {
   "cell_type": "code",
   "execution_count": 89,
   "metadata": {},
   "outputs": [],
   "source": [
    "Khan = data_file_df[data_file_df.Candidate == 'Khan']\n",
    "#print(Khan)\n",
    "Khancount = Khan[\"Voter ID\"].count()\n",
    "Khanpct = '{:.3%}'.format(Khancount/totalvote)\n",
    "#print(Khancount)\n",
    "#print(Khanpct)\n",
    "\n",
    "Correy = data_file_df[data_file_df.Candidate == 'Correy']\n",
    "Correycount = Correy[\"Voter ID\"].count()\n",
    "Correypct = '{:.3%}'.format(Correycount/totalvote)\n",
    "#print(Correycount)\n",
    "#print(Correypct)\n",
    "\n",
    "Li = data_file_df[data_file_df.Candidate == 'Li']\n",
    "Licount = Li[\"Voter ID\"].count()\n",
    "Lipct = '{:.3%}'.format(Licount/totalvote)\n",
    "#print(Licount)\n",
    "#print(Lipct)\n",
    "\n",
    "Tooley = data_file_df[data_file_df.Candidate == \"O'Tooley\"]\n",
    "Tooleycount = Tooley[\"Voter ID\"].count()\n",
    "Tooleypct = '{:.3%}'.format(Tooleycount/totalvote)\n",
    "#print(Tooleycount)\n",
    "#print(Tooleypct)"
   ]
  },
  {
   "cell_type": "code",
   "execution_count": 90,
   "metadata": {},
   "outputs": [],
   "source": [
    "for x in Khancount, Correycount, Licount, Tooleycount:\n",
    "    if x > Correycount and x > Licount and x > Tooleycount:\n",
    "        y = Khan[\"Candidate\"][0]\n",
    "        #print(f'Winner: {y}')\n",
    "    elif x > Khancount and x > Licount and x > Tooleycount:\n",
    "        y = Correy[\"Candidate\"][0]\n",
    "        #print(f'Winner: {y}')\n",
    "    elif x > Khancount and x > Correycount and x > Tooleycount:\n",
    "        y = Li[\"Candidate\"][0]\n",
    "        #print(f'Winner: {y}')\n",
    "    elif x > Khancount and x > Licount and x > Correycount:\n",
    "        y = Tooley[\"Candidate\"][0]\n",
    "        #print(f'Winner: {y}')"
   ]
  },
  {
   "cell_type": "code",
   "execution_count": 91,
   "metadata": {},
   "outputs": [
    {
     "name": "stdout",
     "output_type": "stream",
     "text": [
      "Election Results\n",
      "-------------------------\n",
      "Total Votes: 3521001\n",
      "-------------------------\n",
      "Khan: 63.000% (2218231)\n",
      "Correy: 20.000% (704200)\n",
      "Li: 14.000% (492940)\n",
      "O'Tooley: 3.000% (105630)\n",
      "-------------------------\n",
      "Winner: Khan\n",
      "-------------------------\n"
     ]
    }
   ],
   "source": [
    "print('Election Results')\n",
    "print('-------------------------')\n",
    "print(f'Total Votes: {totalvote}')\n",
    "print('-------------------------')\n",
    "print(f'Khan: {Khanpct} ({Khancount})',f'Correy: {Correypct} ({Correycount})', f'Li: {Lipct} ({Licount})', f\"O'Tooley: {Tooleypct} ({Tooleycount})\", sep=\"\\n\")\n",
    "print('-------------------------')\n",
    "print(f'Winner: {y}')\n",
    "print('-------------------------')"
   ]
  },
  {
   "cell_type": "code",
   "execution_count": null,
   "metadata": {},
   "outputs": [],
   "source": []
  }
 ],
 "metadata": {
  "kernelspec": {
   "display_name": "Python 3",
   "language": "python",
   "name": "python3"
  },
  "language_info": {
   "codemirror_mode": {
    "name": "ipython",
    "version": 3
   },
   "file_extension": ".py",
   "mimetype": "text/x-python",
   "name": "python",
   "nbconvert_exporter": "python",
   "pygments_lexer": "ipython3",
   "version": "3.8.5"
  }
 },
 "nbformat": 4,
 "nbformat_minor": 4
}
